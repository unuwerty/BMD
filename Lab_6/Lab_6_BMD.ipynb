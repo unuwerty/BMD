{
 "cells": [
  {
   "cell_type": "markdown",
   "metadata": {},
   "source": [
    "<h1>Лабораторна робота №6</h1>\n",
    "<h2>З обробки та аналізу БМД</h2>\n",
    "<h2>Виконав:<br>Яцина Денис<br></h2>\n",
    "<br><h3>Парний t-критерій Стьюдента</h3>"
   ]
  },
  {
   "cell_type": "markdown",
   "metadata": {},
   "source": [
    "1.Обрати реальні дані з kaggle або сгенерувати випадкові дані. Дані мають відповідати вимогам викладеним вище. Формат даних:"
   ]
  },
  {
   "cell_type": "code",
   "execution_count": 97,
   "metadata": {},
   "outputs": [],
   "source": [
    "import pandas as pd\n",
    "import numpy as np\n",
    "import matplotlib.pyplot as plt\n",
    "from numpy.random import randint\n",
    "import seaborn as sns\n",
    "import scipy.stats as ss\n",
    "import math"
   ]
  },
  {
   "cell_type": "code",
   "execution_count": 8,
   "metadata": {},
   "outputs": [
    {
     "data": {
      "text/html": [
       "<div>\n",
       "<style scoped>\n",
       "    .dataframe tbody tr th:only-of-type {\n",
       "        vertical-align: middle;\n",
       "    }\n",
       "\n",
       "    .dataframe tbody tr th {\n",
       "        vertical-align: top;\n",
       "    }\n",
       "\n",
       "    .dataframe thead th {\n",
       "        text-align: right;\n",
       "    }\n",
       "</style>\n",
       "<table border=\"1\" class=\"dataframe\">\n",
       "  <thead>\n",
       "    <tr style=\"text-align: right;\">\n",
       "      <th>Пульс</th>\n",
       "      <th>До вправ</th>\n",
       "      <th>Після вправ</th>\n",
       "    </tr>\n",
       "    <tr>\n",
       "      <th>№ учасника</th>\n",
       "      <th></th>\n",
       "      <th></th>\n",
       "    </tr>\n",
       "  </thead>\n",
       "  <tbody>\n",
       "    <tr>\n",
       "      <td>1</td>\n",
       "      <td>74</td>\n",
       "      <td>80</td>\n",
       "    </tr>\n",
       "    <tr>\n",
       "      <td>2</td>\n",
       "      <td>88</td>\n",
       "      <td>77</td>\n",
       "    </tr>\n",
       "    <tr>\n",
       "      <td>3</td>\n",
       "      <td>70</td>\n",
       "      <td>91</td>\n",
       "    </tr>\n",
       "    <tr>\n",
       "      <td>4</td>\n",
       "      <td>86</td>\n",
       "      <td>92</td>\n",
       "    </tr>\n",
       "    <tr>\n",
       "      <td>5</td>\n",
       "      <td>89</td>\n",
       "      <td>123</td>\n",
       "    </tr>\n",
       "    <tr>\n",
       "      <td>6</td>\n",
       "      <td>87</td>\n",
       "      <td>121</td>\n",
       "    </tr>\n",
       "  </tbody>\n",
       "</table>\n",
       "</div>"
      ],
      "text/plain": [
       "Пульс       До вправ  Після вправ\n",
       "№ учасника                       \n",
       "1                 74           80\n",
       "2                 88           77\n",
       "3                 70           91\n",
       "4                 86           92\n",
       "5                 89          123\n",
       "6                 87          121"
      ]
     },
     "execution_count": 8,
     "metadata": {},
     "output_type": "execute_result"
    }
   ],
   "source": [
    "df_1 = randint(60, 90, 6)\n",
    "df_2 = randint(75, 130, 6)\n",
    "data = pd.DataFrame({\"До вправ\": df_1, \"Після вправ\": df_2,}, index = np.arange(1,len(df_1)+1))\n",
    "data.index.name = '№ учасника'\n",
    "data.columns.name = 'Пульс'\n",
    "data"
   ]
  },
  {
   "cell_type": "markdown",
   "metadata": {},
   "source": [
    "2.Побудувати графік, що відображає розкид даних в групах. Приклад:"
   ]
  },
  {
   "cell_type": "code",
   "execution_count": 11,
   "metadata": {},
   "outputs": [
    {
     "data": {
      "text/plain": [
       "[]"
      ]
     },
     "execution_count": 11,
     "metadata": {},
     "output_type": "execute_result"
    },
    {
     "data": {
      "image/png": "[encoded data removed]",
      "text/plain": [
       "<Figure size 432x288 with 1 Axes>"
      ]
     },
     "metadata": {
      "needs_background": "light"
     },
     "output_type": "display_data"
    }
   ],
   "source": [
    "sns.boxplot(data=data, orient = 'h').set()"
   ]
  },
  {
   "cell_type": "markdown",
   "metadata": {},
   "source": [
    "3.Написати функції:\n",
    "\n",
    "для оцінки зв'язку між групами за коефіцієнтом кореляції Пірсона. Функція має повертати значення коефіцієнту кореляції, значення ступеня свободи та результат оцінки значимості зв'зку (significant або not significant).\n",
    "\n",
    "для визначення відмінності між групами за критерієм Стьюдента. Функція має повертати значення критерію Стьюдента,значення ступеня свободи та результат оцінки значимості зв'зку (significant або not significant)."
   ]
  },
  {
   "cell_type": "code",
   "execution_count": 101,
   "metadata": {},
   "outputs": [],
   "source": [
    "def Pirson(x, y):\n",
    "    n = len(x)\n",
    "    r = ( sum(x * y) - n * (sum(x)/n) * (sum(y)/n) ) / ( n * ( ( ( sum(x**2)/n - (sum(x)/n)**2 ) * ( sum(y**2)/n - (sum(y)/n)**2) ) )**(1/2) )\n",
    "    print(\"Значення коефіцієнту кореляції: \" + str(r))\n",
    "    df = n - 2\n",
    "    print(\"Значення ступеня свободи: \" + str(df))\n",
    "    table = pd.read_excel(r'C:\\Users\\User\\Таблиця критичних значень кореляційного аналізу.xlsx', encoding='utf-8')\n",
    "    a=table.iloc[df-1, 1 ]\n",
    "    print(\"Критичне значення коефіцієнту кореляції = \" + str(a))\n",
    "    result = (\"significant\") if abs(r) > a else \"not significant\"\n",
    "    print(\"Результат оцінки значимості зв'зку: \" + result)\n",
    "    return r, df, result"
   ]
  },
  {
   "cell_type": "code",
   "execution_count": 98,
   "metadata": {},
   "outputs": [],
   "source": [
    "def Student(x, y):\n",
    "    difference = x - y\n",
    "    n = len(x)\n",
    "    m = difference.mean()\n",
    "    diff = difference.std()\n",
    "    t = (m/diff) * (n)**(1/2)\n",
    "    print(\"Значення t-критерію Стьюдента: t = \"  + str(t))\n",
    "    df = n - 1\n",
    "    print('Значення ступеня свободи: df = ' + str(df))\n",
    "    table = pd.read_excel(r'C:\\Users\\User\\Таблица критических значений для парного критерия.xlsx', encoding='utf-8')\n",
    "    b=table.iloc[df-1, 1 ]\n",
    "    print(\"Критичне значення коефіцієнту Стьюдента = \" + str(b))\n",
    "    result = (\"significant\") if abs(t) > b else \"not significant\"\n",
    "    print(\"Результат оцінки значимості зв'зку: \" + result)\n",
    "    return t, df, result"
   ]
  },
  {
   "cell_type": "markdown",
   "metadata": {},
   "source": [
    "4.Перевірити розбіжність на між групами на даних з п. 1."
   ]
  },
  {
   "cell_type": "code",
   "execution_count": 102,
   "metadata": {},
   "outputs": [
    {
     "name": "stdout",
     "output_type": "stream",
     "text": [
      "Значення коефіцієнту кореляції: 0.4521884014800096\n",
      "Значення ступеня свободи: 4\n",
      "Критичне значення коефіцієнту кореляції = 0.8114\n",
      "Результат оцінки значимості зв'зку: not significant\n"
     ]
    },
    {
     "data": {
      "text/plain": [
       "(0.4521884014800096, 4, 'not significant')"
      ]
     },
     "execution_count": 102,
     "metadata": {},
     "output_type": "execute_result"
    }
   ],
   "source": [
    "Pirson(df_1, df_2)"
   ]
  },
  {
   "cell_type": "code",
   "execution_count": 103,
   "metadata": {},
   "outputs": [
    {
     "name": "stdout",
     "output_type": "stream",
     "text": [
      "Значення t-критерію Стьюдента: t = -2.252817784447915\n",
      "Значення ступеня свободи: df = 5\n",
      "Критичне значення коефіцієнту Стьюдента = 2.571\n",
      "Результат оцінки значимості зв'зку: not significant\n"
     ]
    },
    {
     "data": {
      "text/plain": [
       "(-2.252817784447915, 5, 'not significant')"
      ]
     },
     "execution_count": 103,
     "metadata": {},
     "output_type": "execute_result"
    }
   ],
   "source": [
    "Student(df_1, df_2)"
   ]
  },
  {
   "cell_type": "markdown",
   "metadata": {},
   "source": [
    "5.Сформувати висновок про взаємозв'язок між групами та про їх розбіжність.\n",
    "\n",
    "Висновок:\n",
    "\n",
    "1)Під час аналізу залежності між групами за допомогою критерія Пірсона я отримав результат, який стверджує, що статистичної залежності немає.\n",
    "\n",
    "2)Під час аналізу відмінності між групами за допомогою критерія t-Стьюдента, було прийнято нульову гіпотезу про рівність середніх."
   ]
  }
 ],
 "metadata": {
  "kernelspec": {
   "display_name": "Python 3",
   "language": "python",
   "name": "python3"
  },
  "language_info": {
   "codemirror_mode": {
    "name": "ipython",
    "version": 3
   },
   "file_extension": ".py",
   "mimetype": "text/x-python",
   "name": "python",
   "nbconvert_exporter": "python",
   "pygments_lexer": "ipython3",
   "version": "3.7.4"
  }
 },
 "nbformat": 4,
 "nbformat_minor": 2
}
